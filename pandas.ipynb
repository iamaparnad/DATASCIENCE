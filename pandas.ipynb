{
 "cells": [
  {
   "cell_type": "code",
   "execution_count": 1,
   "id": "8c066882",
   "metadata": {},
   "outputs": [
    {
     "name": "stdout",
     "output_type": "stream",
     "text": [
      "   calories  duration\n",
      "0       420        50\n",
      "1       380        40\n",
      "2       390        45\n"
     ]
    }
   ],
   "source": [
    "import pandas as pd\n",
    "data={\"calories\":[420,380,390],\"duration\":[50,40,45]}\n",
    "df=pd.DataFrame(data)\n",
    "print(df)"
   ]
  },
  {
   "cell_type": "code",
   "execution_count": 2,
   "id": "5ae99a8a",
   "metadata": {},
   "outputs": [
    {
     "name": "stdout",
     "output_type": "stream",
     "text": [
      "       calories  duration\n",
      "day 1       420        50\n",
      "day 2       380        40\n",
      "day 3       390        45\n"
     ]
    }
   ],
   "source": [
    "import pandas as pd\n",
    "data={\"calories\":[420,380,390],\"duration\":[50,40,45]}\n",
    "df=pd.DataFrame(data,index=[\"day 1\",\"day 2\",\"day 3\"])\n",
    "print(df)"
   ]
  },
  {
   "cell_type": "code",
   "execution_count": 3,
   "id": "3756457f",
   "metadata": {},
   "outputs": [
    {
     "name": "stdout",
     "output_type": "stream",
     "text": [
      "   CUSTOMERID  GENDER  AGE  ANNUAL INCOME(K$)  SPENDING SCORE\n",
      "0           1    MALE   20                 10              30\n",
      "1           2  FEMALE   21                 20              50\n",
      "2           3  FEMALE   19                 30              48\n",
      "3           4    MALE   18                 10              84\n",
      "4           5    MALE   25                 25              90\n",
      "5           6  FEMALE   26                 60              65\n",
      "6           7    MALE   32                 70              32\n",
      "7           8    MALE   41                 15              46\n",
      "8           9  FEMALE   20                 21              12\n",
      "9          10    MALE   19                 22              56\n"
     ]
    }
   ],
   "source": [
    "import pandas as pd\n",
    "data_dict={'CUSTOMERID':[1,2,3,4,5,6,7,8,9,10],'GENDER':[\"MALE\",\"FEMALE\",\"FEMALE\",\"MALE\",\"MALE\",\"FEMALE\",\"MALE\",\"MALE\",\"FEMALE\",\"MALE\"],'AGE':[20,21,19,18,25,26,32,41,20,19],'ANNUAL INCOME(K$)':[10,20,30,10,25,60,70,15,21,22],'SPENDING SCORE':[30,50,48,84,90,65,32,46,12,56]}\n",
    "data=pd.DataFrame(data_dict)\n",
    "data.to_csv(\"Customers.csv\")\n",
    "print(data)"
   ]
  },
  {
   "cell_type": "code",
   "execution_count": 4,
   "id": "d49d6ae3",
   "metadata": {},
   "outputs": [
    {
     "name": "stdout",
     "output_type": "stream",
     "text": [
      "   CustomerID  Gender  Age  Annual Income(k$)  Spending Score\n",
      "0           1    Male   20                 10              30\n",
      "1           2  Female   21                 20              50\n",
      "2           3  Female   19                 30              48\n",
      "3           4    Male   18                 10              84\n",
      "4           5    Male   25                 25              90\n",
      "5           6  Female   26                 60              65\n",
      "6           7    Male   32                 70              32\n",
      "7           8    Male   41                 15              46\n",
      "8           9  Female   20                 21              12\n",
      "9          10    Male   19                 22              56\n",
      "   CustomerID  Gender  Age  Annual Income(k$)  Spending Score\n",
      "0          11    Male   23                 10              38\n",
      "1          12  Female   33                 20              59\n",
      "2          13  Female   19                 30              48\n",
      "3          14    Male   18                 10              99\n",
      "4          15    Male   25                 25              94\n",
      "5          16  Female   26                 60              66\n",
      "6          17    Male   32                 70              44\n",
      "7          18    Male   41                 15              51\n",
      "8          19  Female   20                 21              12\n",
      "9          20    Male   19                 22              56\n",
      "    Unnamed: 0  CustomerID  Gender  Age  Annual Income(k$)  Spending Score\n",
      "0            0           1    Male   20                 10              30\n",
      "1            1           2  Female   21                 20              50\n",
      "2            2           3  Female   19                 30              48\n",
      "3            3           4    Male   18                 10              84\n",
      "4            4           5    Male   25                 25              90\n",
      "5            5           6  Female   26                 60              65\n",
      "6            6           7    Male   32                 70              32\n",
      "7            7           8    Male   41                 15              46\n",
      "8            8           9  Female   20                 21              12\n",
      "9            9          10    Male   19                 22              56\n",
      "10           0          11    Male   23                 10              38\n",
      "11           1          12  Female   33                 20              59\n",
      "12           2          13  Female   19                 30              48\n",
      "13           3          14    Male   18                 10              99\n",
      "14           4          15    Male   25                 25              94\n",
      "15           5          16  Female   26                 60              66\n",
      "16           6          17    Male   32                 70              44\n",
      "17           7          18    Male   41                 15              51\n",
      "18           8          19  Female   20                 21              12\n",
      "19           9          20    Male   19                 22              56\n"
     ]
    }
   ],
   "source": [
    "import pandas as pd\n",
    "data_dict1 = {'CustomerID': [1, 2, 3, 4, 5, 6, 7, 8, 9, 10],\n",
    "              \n",
    "             'Gender': [\"Male\", \"Female\", \"Female\", \"Male\",\n",
    "                        \"Male\", \"Female\", \"Male\", \"Male\",\n",
    "                        \"Female\", \"Male\"],\n",
    "              \n",
    "             'Age': [20, 21, 19, 18, 25, 26, 32, 41, 20, 19],\n",
    "              \n",
    "             'Annual Income(k$)': [10, 20, 30, 10, 25, 60, 70,\n",
    "                                   15, 21, 22],\n",
    "              \n",
    "             'Spending Score': [30, 50, 48, 84, 90, 65, 32, 46,\n",
    "                                12, 56]}\n",
    " \n",
    "\n",
    "data1 = pd.DataFrame(data_dict1)\n",
    " \n",
    "\n",
    "data1.to_csv(\"Customers1.csv\")\n",
    " \n",
    "print(data1)\n",
    "\n",
    "data_dict2 = {'CustomerID': [11, 12, 13, 14, 15, 16, 17, 18, 19, 20],\n",
    "              \n",
    "             'Gender': [\"Male\", \"Female\", \"Female\", \"Male\",\n",
    "                        \"Male\", \"Female\", \"Male\", \"Male\",\n",
    "                        \"Female\", \"Male\"],\n",
    "              \n",
    "             'Age': [23, 33, 19, 18, 25, 26, 32, 41, 20, 19],\n",
    "              \n",
    "             'Annual Income(k$)': [10, 20, 30, 10, 25, 60, 70,\n",
    "                                   15, 21, 22],\n",
    "              \n",
    "             'Spending Score': [38, 59, 48, 99, 94, 66, 44, 51,\n",
    "                                12, 56]}\n",
    " \n",
    "\n",
    "data2 = pd.DataFrame(data_dict2)\n",
    " \n",
    "\n",
    "data2.to_csv(\"Customers2.csv\")\n",
    " \n",
    "\n",
    "print(data2)\n",
    "\n",
    "df = pd.concat(\n",
    "    map(pd.read_csv, ['Customers1.csv', 'Customers2.csv']), ignore_index=True)\n",
    "print(df)"
   ]
  },
  {
   "cell_type": "code",
   "execution_count": null,
   "id": "6bc71843",
   "metadata": {},
   "outputs": [],
   "source": []
  }
 ],
 "metadata": {
  "kernelspec": {
   "display_name": "Python 3",
   "language": "python",
   "name": "python3"
  },
  "language_info": {
   "codemirror_mode": {
    "name": "ipython",
    "version": 3
   },
   "file_extension": ".py",
   "mimetype": "text/x-python",
   "name": "python",
   "nbconvert_exporter": "python",
   "pygments_lexer": "ipython3",
   "version": "3.8.8"
  }
 },
 "nbformat": 4,
 "nbformat_minor": 5
}
